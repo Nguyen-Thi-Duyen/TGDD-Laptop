{
 "cells": [
  {
   "cell_type": "code",
   "execution_count": 1,
   "id": "02adc3a7-3427-48f3-93e1-765a8e06214b",
   "metadata": {
    "tags": []
   },
   "outputs": [
    {
     "data": {
      "text/html": [
       "<div>\n",
       "<style scoped>\n",
       "    .dataframe tbody tr th:only-of-type {\n",
       "        vertical-align: middle;\n",
       "    }\n",
       "\n",
       "    .dataframe tbody tr th {\n",
       "        vertical-align: top;\n",
       "    }\n",
       "\n",
       "    .dataframe thead th {\n",
       "        text-align: right;\n",
       "    }\n",
       "</style>\n",
       "<table border=\"1\" class=\"dataframe\">\n",
       "  <thead>\n",
       "    <tr style=\"text-align: right;\">\n",
       "      <th></th>\n",
       "      <th>Thương hiệu</th>\n",
       "      <th>Tên sp</th>\n",
       "      <th>Giá</th>\n",
       "      <th>Tên khách hàng</th>\n",
       "      <th>Rating</th>\n",
       "      <th>Hài lòng</th>\n",
       "      <th>Đánh giá</th>\n",
       "      <th>RAM</th>\n",
       "      <th>Loại RAM</th>\n",
       "      <th>Tốc độ Bus RAM</th>\n",
       "      <th>...</th>\n",
       "      <th>Kết nối không dây</th>\n",
       "      <th>Webcam</th>\n",
       "      <th>Đèn bàn phím</th>\n",
       "      <th>Chất liệu</th>\n",
       "      <th>Thông tin Pin</th>\n",
       "      <th>Hệ điều hành</th>\n",
       "      <th>Thời điểm ra mắt</th>\n",
       "      <th>Dài(mm)</th>\n",
       "      <th>Rộng(mm)</th>\n",
       "      <th>Trọng Lượng(kg)</th>\n",
       "    </tr>\n",
       "  </thead>\n",
       "  <tbody>\n",
       "    <tr>\n",
       "      <th>0</th>\n",
       "      <td>Acer</td>\n",
       "      <td>Laptop Acer Aspire 3 A314 42P R3B3 R7 5700U/16...</td>\n",
       "      <td>12490000</td>\n",
       "      <td>Pham Dung</td>\n",
       "      <td>1</td>\n",
       "      <td>1</td>\n",
       "      <td>Máy để chế độ sleep khoảng 12 tiếng sẽ bị nóng...</td>\n",
       "      <td>16 GB</td>\n",
       "      <td>LPDDR4X (Onboard)</td>\n",
       "      <td>4266 MHz</td>\n",
       "      <td>...</td>\n",
       "      <td>Wi-Fi 6 (802.11ax)</td>\n",
       "      <td>HD webcam</td>\n",
       "      <td>Không có đèn</td>\n",
       "      <td>Vỏ nhựa</td>\n",
       "      <td>3-cell, 50Wh</td>\n",
       "      <td>Windows 11 Home SL</td>\n",
       "      <td>2024</td>\n",
       "      <td>318.2</td>\n",
       "      <td>225.5</td>\n",
       "      <td>1.4</td>\n",
       "    </tr>\n",
       "    <tr>\n",
       "      <th>1</th>\n",
       "      <td>Acer</td>\n",
       "      <td>Laptop Acer Aspire 3 A314 42P R3B3 R7 5700U/16...</td>\n",
       "      <td>12490000</td>\n",
       "      <td>Lê Văn Đối</td>\n",
       "      <td>1</td>\n",
       "      <td>1</td>\n",
       "      <td>Mua sản phẩm vào tháng 09/2024 đến tháng 02/20...</td>\n",
       "      <td>16 GB</td>\n",
       "      <td>LPDDR4X (Onboard)</td>\n",
       "      <td>4266 MHz</td>\n",
       "      <td>...</td>\n",
       "      <td>Wi-Fi 6 (802.11ax)</td>\n",
       "      <td>HD webcam</td>\n",
       "      <td>Không có đèn</td>\n",
       "      <td>Vỏ nhựa</td>\n",
       "      <td>3-cell, 50Wh</td>\n",
       "      <td>Windows 11 Home SL</td>\n",
       "      <td>2024</td>\n",
       "      <td>318.2</td>\n",
       "      <td>225.5</td>\n",
       "      <td>1.4</td>\n",
       "    </tr>\n",
       "    <tr>\n",
       "      <th>2</th>\n",
       "      <td>Acer</td>\n",
       "      <td>Laptop Acer Aspire 3 A314 42P R3B3 R7 5700U/16...</td>\n",
       "      <td>12490000</td>\n",
       "      <td>Long Hoang</td>\n",
       "      <td>5</td>\n",
       "      <td>1</td>\n",
       "      <td>trong tâm gia nay thi ryzen 7 5800u đap ưng qu...</td>\n",
       "      <td>16 GB</td>\n",
       "      <td>LPDDR4X (Onboard)</td>\n",
       "      <td>4266 MHz</td>\n",
       "      <td>...</td>\n",
       "      <td>Wi-Fi 6 (802.11ax)</td>\n",
       "      <td>HD webcam</td>\n",
       "      <td>Không có đèn</td>\n",
       "      <td>Vỏ nhựa</td>\n",
       "      <td>3-cell, 50Wh</td>\n",
       "      <td>Windows 11 Home SL</td>\n",
       "      <td>2024</td>\n",
       "      <td>318.2</td>\n",
       "      <td>225.5</td>\n",
       "      <td>1.4</td>\n",
       "    </tr>\n",
       "    <tr>\n",
       "      <th>3</th>\n",
       "      <td>Acer</td>\n",
       "      <td>Laptop Acer Aspire 3 A314 42P R3B3 R7 5700U/16...</td>\n",
       "      <td>12490000</td>\n",
       "      <td>Hải Đăng</td>\n",
       "      <td>3</td>\n",
       "      <td>1</td>\n",
       "      <td>không có gì nổi trội hết</td>\n",
       "      <td>16 GB</td>\n",
       "      <td>LPDDR4X (Onboard)</td>\n",
       "      <td>4266 MHz</td>\n",
       "      <td>...</td>\n",
       "      <td>Wi-Fi 6 (802.11ax)</td>\n",
       "      <td>HD webcam</td>\n",
       "      <td>Không có đèn</td>\n",
       "      <td>Vỏ nhựa</td>\n",
       "      <td>3-cell, 50Wh</td>\n",
       "      <td>Windows 11 Home SL</td>\n",
       "      <td>2024</td>\n",
       "      <td>318.2</td>\n",
       "      <td>225.5</td>\n",
       "      <td>1.4</td>\n",
       "    </tr>\n",
       "    <tr>\n",
       "      <th>4</th>\n",
       "      <td>Acer</td>\n",
       "      <td>Laptop Acer Aspire 3 A314 42P R3B3 R7 5700U/16...</td>\n",
       "      <td>12490000</td>\n",
       "      <td>Nguyễn Huy Tuấn</td>\n",
       "      <td>4</td>\n",
       "      <td>1</td>\n",
       "      <td>Mới mua con này hôm 23/9 mà hôm sau giá giảm t...</td>\n",
       "      <td>16 GB</td>\n",
       "      <td>LPDDR4X (Onboard)</td>\n",
       "      <td>4266 MHz</td>\n",
       "      <td>...</td>\n",
       "      <td>Wi-Fi 6 (802.11ax)</td>\n",
       "      <td>HD webcam</td>\n",
       "      <td>Không có đèn</td>\n",
       "      <td>Vỏ nhựa</td>\n",
       "      <td>3-cell, 50Wh</td>\n",
       "      <td>Windows 11 Home SL</td>\n",
       "      <td>2024</td>\n",
       "      <td>318.2</td>\n",
       "      <td>225.5</td>\n",
       "      <td>1.4</td>\n",
       "    </tr>\n",
       "  </tbody>\n",
       "</table>\n",
       "<p>5 rows × 34 columns</p>\n",
       "</div>"
      ],
      "text/plain": [
       "  Thương hiệu                                             Tên sp       Giá  \\\n",
       "0        Acer  Laptop Acer Aspire 3 A314 42P R3B3 R7 5700U/16...  12490000   \n",
       "1        Acer  Laptop Acer Aspire 3 A314 42P R3B3 R7 5700U/16...  12490000   \n",
       "2        Acer  Laptop Acer Aspire 3 A314 42P R3B3 R7 5700U/16...  12490000   \n",
       "3        Acer  Laptop Acer Aspire 3 A314 42P R3B3 R7 5700U/16...  12490000   \n",
       "4        Acer  Laptop Acer Aspire 3 A314 42P R3B3 R7 5700U/16...  12490000   \n",
       "\n",
       "    Tên khách hàng  Rating  Hài lòng  \\\n",
       "0        Pham Dung       1         1   \n",
       "1       Lê Văn Đối       1         1   \n",
       "2       Long Hoang       5         1   \n",
       "3         Hải Đăng       3         1   \n",
       "4  Nguyễn Huy Tuấn       4         1   \n",
       "\n",
       "                                            Đánh giá    RAM  \\\n",
       "0  Máy để chế độ sleep khoảng 12 tiếng sẽ bị nóng...  16 GB   \n",
       "1  Mua sản phẩm vào tháng 09/2024 đến tháng 02/20...  16 GB   \n",
       "2  trong tâm gia nay thi ryzen 7 5800u đap ưng qu...  16 GB   \n",
       "3                           không có gì nổi trội hết  16 GB   \n",
       "4  Mới mua con này hôm 23/9 mà hôm sau giá giảm t...  16 GB   \n",
       "\n",
       "            Loại RAM Tốc độ Bus RAM  ...   Kết nối không dây     Webcam  \\\n",
       "0  LPDDR4X (Onboard)       4266 MHz  ...  Wi-Fi 6 (802.11ax)  HD webcam   \n",
       "1  LPDDR4X (Onboard)       4266 MHz  ...  Wi-Fi 6 (802.11ax)  HD webcam   \n",
       "2  LPDDR4X (Onboard)       4266 MHz  ...  Wi-Fi 6 (802.11ax)  HD webcam   \n",
       "3  LPDDR4X (Onboard)       4266 MHz  ...  Wi-Fi 6 (802.11ax)  HD webcam   \n",
       "4  LPDDR4X (Onboard)       4266 MHz  ...  Wi-Fi 6 (802.11ax)  HD webcam   \n",
       "\n",
       "   Đèn bàn phím  Chất liệu Thông tin Pin        Hệ điều hành Thời điểm ra mắt  \\\n",
       "0  Không có đèn    Vỏ nhựa  3-cell, 50Wh  Windows 11 Home SL             2024   \n",
       "1  Không có đèn    Vỏ nhựa  3-cell, 50Wh  Windows 11 Home SL             2024   \n",
       "2  Không có đèn    Vỏ nhựa  3-cell, 50Wh  Windows 11 Home SL             2024   \n",
       "3  Không có đèn    Vỏ nhựa  3-cell, 50Wh  Windows 11 Home SL             2024   \n",
       "4  Không có đèn    Vỏ nhựa  3-cell, 50Wh  Windows 11 Home SL             2024   \n",
       "\n",
       "  Dài(mm) Rộng(mm) Trọng Lượng(kg)  \n",
       "0   318.2    225.5             1.4  \n",
       "1   318.2    225.5             1.4  \n",
       "2   318.2    225.5             1.4  \n",
       "3   318.2    225.5             1.4  \n",
       "4   318.2    225.5             1.4  \n",
       "\n",
       "[5 rows x 34 columns]"
      ]
     },
     "execution_count": 1,
     "metadata": {},
     "output_type": "execute_result"
    }
   ],
   "source": [
    "import pandas as pd\n",
    "import numpy as np\n",
    "import re\n",
    "from sklearn.preprocessing import StandardScaler\n",
    "from sklearn.feature_extraction.text import TfidfVectorizer\n",
    "from sklearn.metrics.pairwise import cosine_similarity\n",
    "\n",
    "laptop=pd.read_csv('Laptop_dlxuly.csv')\n",
    "laptop.head(5)"
   ]
  },
  {
   "cell_type": "code",
   "execution_count": 2,
   "id": "db1b7472-f0ea-43c7-adee-f8846fc4b24f",
   "metadata": {
    "tags": []
   },
   "outputs": [
    {
     "data": {
      "text/plain": [
       "Index(['Thương hiệu', 'Tên sp', 'Giá', 'Tên khách hàng', 'Rating', 'Hài lòng',\n",
       "       'Đánh giá', 'RAM', 'Loại RAM', 'Tốc độ Bus RAM', 'Hỗ trợ RAM tối đa',\n",
       "       'Ổ cứng', 'Công nghệ CPU', 'Số nhân', 'Số luồng', 'Tốc độ CPU',\n",
       "       'Tốc độ tối đa', 'Màn hình', 'Độ phân giải', 'Tần số quét',\n",
       "       'Công nghệ màn hình', 'Card màn hình', 'Công nghệ âm thanh',\n",
       "       'Cổng giao tiếp', 'Kết nối không dây', 'Webcam', 'Đèn bàn phím',\n",
       "       'Chất liệu', 'Thông tin Pin', 'Hệ điều hành', 'Thời điểm ra mắt',\n",
       "       'Dài(mm)', 'Rộng(mm)', 'Trọng Lượng(kg)'],\n",
       "      dtype='object')"
      ]
     },
     "execution_count": 2,
     "metadata": {},
     "output_type": "execute_result"
    }
   ],
   "source": [
    "laptop.columns"
   ]
  },
  {
   "cell_type": "code",
   "execution_count": 3,
   "id": "5417f7e3-6115-42e1-9638-0224943e4805",
   "metadata": {
    "tags": []
   },
   "outputs": [
    {
     "data": {
      "text/html": [
       "<div>\n",
       "<style scoped>\n",
       "    .dataframe tbody tr th:only-of-type {\n",
       "        vertical-align: middle;\n",
       "    }\n",
       "\n",
       "    .dataframe tbody tr th {\n",
       "        vertical-align: top;\n",
       "    }\n",
       "\n",
       "    .dataframe thead th {\n",
       "        text-align: right;\n",
       "    }\n",
       "</style>\n",
       "<table border=\"1\" class=\"dataframe\">\n",
       "  <thead>\n",
       "    <tr style=\"text-align: right;\">\n",
       "      <th></th>\n",
       "      <th>Thương hiệu</th>\n",
       "      <th>Tên sp</th>\n",
       "      <th>Giá</th>\n",
       "      <th>Đánh giá</th>\n",
       "      <th>RAM</th>\n",
       "      <th>Loại RAM</th>\n",
       "      <th>Ổ cứng</th>\n",
       "      <th>Công nghệ CPU</th>\n",
       "      <th>Tốc độ CPU</th>\n",
       "      <th>Màn hình</th>\n",
       "      <th>Độ phân giải</th>\n",
       "      <th>Card màn hình</th>\n",
       "      <th>Chất liệu</th>\n",
       "      <th>Thông tin Pin</th>\n",
       "      <th>Hệ điều hành</th>\n",
       "    </tr>\n",
       "  </thead>\n",
       "  <tbody>\n",
       "    <tr>\n",
       "      <th>0</th>\n",
       "      <td>Acer</td>\n",
       "      <td>Laptop Acer Aspire 3 A314 42P R3B3 R7 5700U/16...</td>\n",
       "      <td>12490000</td>\n",
       "      <td>Máy để chế độ sleep khoảng 12 tiếng sẽ bị nóng...</td>\n",
       "      <td>16 GB</td>\n",
       "      <td>LPDDR4X (Onboard)</td>\n",
       "      <td>512 GB SSD NVMe PCIe (Có thể tháo ra, lắp than...</td>\n",
       "      <td>AMD Ryzen 7 - 5700U</td>\n",
       "      <td>1.8GHz</td>\n",
       "      <td>14\"</td>\n",
       "      <td>WUXGA</td>\n",
       "      <td>Card tích hợp - AMD Radeon Graphics</td>\n",
       "      <td>Vỏ nhựa</td>\n",
       "      <td>3-cell, 50Wh</td>\n",
       "      <td>Windows 11 Home SL</td>\n",
       "    </tr>\n",
       "    <tr>\n",
       "      <th>1</th>\n",
       "      <td>Acer</td>\n",
       "      <td>Laptop Acer Aspire 3 A314 42P R3B3 R7 5700U/16...</td>\n",
       "      <td>12490000</td>\n",
       "      <td>Mua sản phẩm vào tháng 09/2024 đến tháng 02/20...</td>\n",
       "      <td>16 GB</td>\n",
       "      <td>LPDDR4X (Onboard)</td>\n",
       "      <td>512 GB SSD NVMe PCIe (Có thể tháo ra, lắp than...</td>\n",
       "      <td>AMD Ryzen 7 - 5700U</td>\n",
       "      <td>1.8GHz</td>\n",
       "      <td>14\"</td>\n",
       "      <td>WUXGA</td>\n",
       "      <td>Card tích hợp - AMD Radeon Graphics</td>\n",
       "      <td>Vỏ nhựa</td>\n",
       "      <td>3-cell, 50Wh</td>\n",
       "      <td>Windows 11 Home SL</td>\n",
       "    </tr>\n",
       "  </tbody>\n",
       "</table>\n",
       "</div>"
      ],
      "text/plain": [
       "  Thương hiệu                                             Tên sp       Giá  \\\n",
       "0        Acer  Laptop Acer Aspire 3 A314 42P R3B3 R7 5700U/16...  12490000   \n",
       "1        Acer  Laptop Acer Aspire 3 A314 42P R3B3 R7 5700U/16...  12490000   \n",
       "\n",
       "                                            Đánh giá    RAM  \\\n",
       "0  Máy để chế độ sleep khoảng 12 tiếng sẽ bị nóng...  16 GB   \n",
       "1  Mua sản phẩm vào tháng 09/2024 đến tháng 02/20...  16 GB   \n",
       "\n",
       "            Loại RAM                                             Ổ cứng  \\\n",
       "0  LPDDR4X (Onboard)  512 GB SSD NVMe PCIe (Có thể tháo ra, lắp than...   \n",
       "1  LPDDR4X (Onboard)  512 GB SSD NVMe PCIe (Có thể tháo ra, lắp than...   \n",
       "\n",
       "         Công nghệ CPU Tốc độ CPU Màn hình Độ phân giải  \\\n",
       "0  AMD Ryzen 7 - 5700U     1.8GHz      14\"        WUXGA   \n",
       "1  AMD Ryzen 7 - 5700U     1.8GHz      14\"        WUXGA   \n",
       "\n",
       "                         Card màn hình Chất liệu Thông tin Pin  \\\n",
       "0  Card tích hợp - AMD Radeon Graphics   Vỏ nhựa  3-cell, 50Wh   \n",
       "1  Card tích hợp - AMD Radeon Graphics   Vỏ nhựa  3-cell, 50Wh   \n",
       "\n",
       "         Hệ điều hành  \n",
       "0  Windows 11 Home SL  \n",
       "1  Windows 11 Home SL  "
      ]
     },
     "execution_count": 3,
     "metadata": {},
     "output_type": "execute_result"
    }
   ],
   "source": [
    "data = laptop[['Thương hiệu', 'Tên sp', 'Giá', 'Đánh giá', 'RAM', 'Loại RAM', 'Ổ cứng', 'Công nghệ CPU', 'Tốc độ CPU',\n",
    "                 'Màn hình', 'Độ phân giải', 'Card màn hình', 'Chất liệu', 'Thông tin Pin', 'Hệ điều hành']]\n",
    "data.head(2)"
   ]
  },
  {
   "cell_type": "code",
   "execution_count": 4,
   "id": "934395df-1163-46a1-b2fb-5820c30dfbf9",
   "metadata": {
    "tags": []
   },
   "outputs": [],
   "source": [
    "def clean(text):\n",
    "    if pd.isnull(text):\n",
    "        return ''\n",
    "    text = text.lower().strip()\n",
    "    text = re.sub(r'[^\\w\\s.]', ' ', text, flags=re.UNICODE)\n",
    "    for unit in ['gb', 'tb', 'mb', 'ghz', 'mhz', 'hz', 'wh', 'inch', 'cell']:\n",
    "        text = re.sub(rf'(\\d+(?:\\.\\d+)?)\\s*{unit}', rf'\\1{unit}', text)\n",
    "    text = re.sub(r'\\s+', ' ', text).strip()\n",
    "    return text"
   ]
  },
  {
   "cell_type": "code",
   "execution_count": 5,
   "id": "08d0a164-2d16-4503-aab7-190c03841e8f",
   "metadata": {
    "tags": []
   },
   "outputs": [
    {
     "name": "stderr",
     "output_type": "stream",
     "text": [
      "C:\\Users\\HP\\AppData\\Local\\Temp\\ipykernel_3756\\2609018627.py:5: SettingWithCopyWarning: \n",
      "A value is trying to be set on a copy of a slice from a DataFrame.\n",
      "Try using .loc[row_indexer,col_indexer] = value instead\n",
      "\n",
      "See the caveats in the documentation: https://pandas.pydata.org/pandas-docs/stable/user_guide/indexing.html#returning-a-view-versus-a-copy\n",
      "  data[col] = data[col].apply(clean)\n"
     ]
    }
   ],
   "source": [
    "columns = ['Thương hiệu', 'Đánh giá', 'RAM', 'Loại RAM', 'Ổ cứng', 'Công nghệ CPU', 'Tốc độ CPU',\n",
    "            'Màn hình', 'Độ phân giải', 'Card màn hình', 'Chất liệu', 'Thông tin Pin', 'Hệ điều hành']\n",
    "\n",
    "for col in columns:\n",
    "    data[col] = data[col].apply(clean)"
   ]
  },
  {
   "cell_type": "code",
   "execution_count": 6,
   "id": "a6151935-453a-4ca8-9a14-47496dd4725d",
   "metadata": {
    "tags": []
   },
   "outputs": [
    {
     "name": "stderr",
     "output_type": "stream",
     "text": [
      "C:\\Users\\HP\\AppData\\Local\\Temp\\ipykernel_3756\\507086554.py:1: SettingWithCopyWarning: \n",
      "A value is trying to be set on a copy of a slice from a DataFrame.\n",
      "Try using .loc[row_indexer,col_indexer] = value instead\n",
      "\n",
      "See the caveats in the documentation: https://pandas.pydata.org/pandas-docs/stable/user_guide/indexing.html#returning-a-view-versus-a-copy\n",
      "  data['Tag'] = data[columns].apply(lambda row: ' '.join(row), axis=1)\n"
     ]
    }
   ],
   "source": [
    "data['Tag'] = data[columns].apply(lambda row: ' '.join(row), axis=1)"
   ]
  },
  {
   "cell_type": "code",
   "execution_count": 7,
   "id": "2fcb9a24-4b1d-43a9-ba6a-9c340aa3964d",
   "metadata": {
    "tags": []
   },
   "outputs": [
    {
     "data": {
      "text/html": [
       "<div>\n",
       "<style scoped>\n",
       "    .dataframe tbody tr th:only-of-type {\n",
       "        vertical-align: middle;\n",
       "    }\n",
       "\n",
       "    .dataframe tbody tr th {\n",
       "        vertical-align: top;\n",
       "    }\n",
       "\n",
       "    .dataframe thead th {\n",
       "        text-align: right;\n",
       "    }\n",
       "</style>\n",
       "<table border=\"1\" class=\"dataframe\">\n",
       "  <thead>\n",
       "    <tr style=\"text-align: right;\">\n",
       "      <th></th>\n",
       "      <th>Thương hiệu</th>\n",
       "      <th>Tên sp</th>\n",
       "      <th>Giá</th>\n",
       "      <th>Đánh giá</th>\n",
       "      <th>RAM</th>\n",
       "      <th>Loại RAM</th>\n",
       "      <th>Ổ cứng</th>\n",
       "      <th>Công nghệ CPU</th>\n",
       "      <th>Tốc độ CPU</th>\n",
       "      <th>Màn hình</th>\n",
       "      <th>Độ phân giải</th>\n",
       "      <th>Card màn hình</th>\n",
       "      <th>Chất liệu</th>\n",
       "      <th>Thông tin Pin</th>\n",
       "      <th>Hệ điều hành</th>\n",
       "      <th>Tag</th>\n",
       "    </tr>\n",
       "  </thead>\n",
       "  <tbody>\n",
       "    <tr>\n",
       "      <th>0</th>\n",
       "      <td>acer</td>\n",
       "      <td>Laptop Acer Aspire 3 A314 42P R3B3 R7 5700U/16...</td>\n",
       "      <td>12490000</td>\n",
       "      <td>máy để chế độ sleep khoảng 12 tiếng sẽ bị nóng...</td>\n",
       "      <td>16gb</td>\n",
       "      <td>lpddr4x onboard</td>\n",
       "      <td>512gb ssd nvme pcie có thể tháo ra lắp thanh k...</td>\n",
       "      <td>amd ryzen 7 5700u</td>\n",
       "      <td>1.8ghz</td>\n",
       "      <td>14</td>\n",
       "      <td>wuxga</td>\n",
       "      <td>card tích hợp amd radeon graphics</td>\n",
       "      <td>vỏ nhựa</td>\n",
       "      <td>3cell 50wh</td>\n",
       "      <td>windows 11 home sl</td>\n",
       "      <td>acer máy để chế độ sleep khoảng 12 tiếng sẽ bị...</td>\n",
       "    </tr>\n",
       "    <tr>\n",
       "      <th>1</th>\n",
       "      <td>acer</td>\n",
       "      <td>Laptop Acer Aspire 3 A314 42P R3B3 R7 5700U/16...</td>\n",
       "      <td>12490000</td>\n",
       "      <td>mua sản phẩm vào tháng 09 2024 đến tháng 02 20...</td>\n",
       "      <td>16gb</td>\n",
       "      <td>lpddr4x onboard</td>\n",
       "      <td>512gb ssd nvme pcie có thể tháo ra lắp thanh k...</td>\n",
       "      <td>amd ryzen 7 5700u</td>\n",
       "      <td>1.8ghz</td>\n",
       "      <td>14</td>\n",
       "      <td>wuxga</td>\n",
       "      <td>card tích hợp amd radeon graphics</td>\n",
       "      <td>vỏ nhựa</td>\n",
       "      <td>3cell 50wh</td>\n",
       "      <td>windows 11 home sl</td>\n",
       "      <td>acer mua sản phẩm vào tháng 09 2024 đến tháng ...</td>\n",
       "    </tr>\n",
       "    <tr>\n",
       "      <th>2</th>\n",
       "      <td>acer</td>\n",
       "      <td>Laptop Acer Aspire 3 A314 42P R3B3 R7 5700U/16...</td>\n",
       "      <td>12490000</td>\n",
       "      <td>trong tâm gia nay thi ryzen 7 5800u đap ưng qu...</td>\n",
       "      <td>16gb</td>\n",
       "      <td>lpddr4x onboard</td>\n",
       "      <td>512gb ssd nvme pcie có thể tháo ra lắp thanh k...</td>\n",
       "      <td>amd ryzen 7 5700u</td>\n",
       "      <td>1.8ghz</td>\n",
       "      <td>14</td>\n",
       "      <td>wuxga</td>\n",
       "      <td>card tích hợp amd radeon graphics</td>\n",
       "      <td>vỏ nhựa</td>\n",
       "      <td>3cell 50wh</td>\n",
       "      <td>windows 11 home sl</td>\n",
       "      <td>acer trong tâm gia nay thi ryzen 7 5800u đap ư...</td>\n",
       "    </tr>\n",
       "    <tr>\n",
       "      <th>3</th>\n",
       "      <td>acer</td>\n",
       "      <td>Laptop Acer Aspire 3 A314 42P R3B3 R7 5700U/16...</td>\n",
       "      <td>12490000</td>\n",
       "      <td>không có gì nổi trội hết</td>\n",
       "      <td>16gb</td>\n",
       "      <td>lpddr4x onboard</td>\n",
       "      <td>512gb ssd nvme pcie có thể tháo ra lắp thanh k...</td>\n",
       "      <td>amd ryzen 7 5700u</td>\n",
       "      <td>1.8ghz</td>\n",
       "      <td>14</td>\n",
       "      <td>wuxga</td>\n",
       "      <td>card tích hợp amd radeon graphics</td>\n",
       "      <td>vỏ nhựa</td>\n",
       "      <td>3cell 50wh</td>\n",
       "      <td>windows 11 home sl</td>\n",
       "      <td>acer không có gì nổi trội hết 16gb lpddr4x onb...</td>\n",
       "    </tr>\n",
       "    <tr>\n",
       "      <th>4</th>\n",
       "      <td>acer</td>\n",
       "      <td>Laptop Acer Aspire 3 A314 42P R3B3 R7 5700U/16...</td>\n",
       "      <td>12490000</td>\n",
       "      <td>mới mua con này hôm 23 9 mà hôm sau giá giảm t...</td>\n",
       "      <td>16gb</td>\n",
       "      <td>lpddr4x onboard</td>\n",
       "      <td>512gb ssd nvme pcie có thể tháo ra lắp thanh k...</td>\n",
       "      <td>amd ryzen 7 5700u</td>\n",
       "      <td>1.8ghz</td>\n",
       "      <td>14</td>\n",
       "      <td>wuxga</td>\n",
       "      <td>card tích hợp amd radeon graphics</td>\n",
       "      <td>vỏ nhựa</td>\n",
       "      <td>3cell 50wh</td>\n",
       "      <td>windows 11 home sl</td>\n",
       "      <td>acer mới mua con này hôm 23 9 mà hôm sau giá g...</td>\n",
       "    </tr>\n",
       "  </tbody>\n",
       "</table>\n",
       "</div>"
      ],
      "text/plain": [
       "  Thương hiệu                                             Tên sp       Giá  \\\n",
       "0        acer  Laptop Acer Aspire 3 A314 42P R3B3 R7 5700U/16...  12490000   \n",
       "1        acer  Laptop Acer Aspire 3 A314 42P R3B3 R7 5700U/16...  12490000   \n",
       "2        acer  Laptop Acer Aspire 3 A314 42P R3B3 R7 5700U/16...  12490000   \n",
       "3        acer  Laptop Acer Aspire 3 A314 42P R3B3 R7 5700U/16...  12490000   \n",
       "4        acer  Laptop Acer Aspire 3 A314 42P R3B3 R7 5700U/16...  12490000   \n",
       "\n",
       "                                            Đánh giá   RAM         Loại RAM  \\\n",
       "0  máy để chế độ sleep khoảng 12 tiếng sẽ bị nóng...  16gb  lpddr4x onboard   \n",
       "1  mua sản phẩm vào tháng 09 2024 đến tháng 02 20...  16gb  lpddr4x onboard   \n",
       "2  trong tâm gia nay thi ryzen 7 5800u đap ưng qu...  16gb  lpddr4x onboard   \n",
       "3                           không có gì nổi trội hết  16gb  lpddr4x onboard   \n",
       "4  mới mua con này hôm 23 9 mà hôm sau giá giảm t...  16gb  lpddr4x onboard   \n",
       "\n",
       "                                              Ổ cứng      Công nghệ CPU  \\\n",
       "0  512gb ssd nvme pcie có thể tháo ra lắp thanh k...  amd ryzen 7 5700u   \n",
       "1  512gb ssd nvme pcie có thể tháo ra lắp thanh k...  amd ryzen 7 5700u   \n",
       "2  512gb ssd nvme pcie có thể tháo ra lắp thanh k...  amd ryzen 7 5700u   \n",
       "3  512gb ssd nvme pcie có thể tháo ra lắp thanh k...  amd ryzen 7 5700u   \n",
       "4  512gb ssd nvme pcie có thể tháo ra lắp thanh k...  amd ryzen 7 5700u   \n",
       "\n",
       "  Tốc độ CPU Màn hình Độ phân giải                      Card màn hình  \\\n",
       "0     1.8ghz       14        wuxga  card tích hợp amd radeon graphics   \n",
       "1     1.8ghz       14        wuxga  card tích hợp amd radeon graphics   \n",
       "2     1.8ghz       14        wuxga  card tích hợp amd radeon graphics   \n",
       "3     1.8ghz       14        wuxga  card tích hợp amd radeon graphics   \n",
       "4     1.8ghz       14        wuxga  card tích hợp amd radeon graphics   \n",
       "\n",
       "  Chất liệu Thông tin Pin        Hệ điều hành  \\\n",
       "0   vỏ nhựa    3cell 50wh  windows 11 home sl   \n",
       "1   vỏ nhựa    3cell 50wh  windows 11 home sl   \n",
       "2   vỏ nhựa    3cell 50wh  windows 11 home sl   \n",
       "3   vỏ nhựa    3cell 50wh  windows 11 home sl   \n",
       "4   vỏ nhựa    3cell 50wh  windows 11 home sl   \n",
       "\n",
       "                                                 Tag  \n",
       "0  acer máy để chế độ sleep khoảng 12 tiếng sẽ bị...  \n",
       "1  acer mua sản phẩm vào tháng 09 2024 đến tháng ...  \n",
       "2  acer trong tâm gia nay thi ryzen 7 5800u đap ư...  \n",
       "3  acer không có gì nổi trội hết 16gb lpddr4x onb...  \n",
       "4  acer mới mua con này hôm 23 9 mà hôm sau giá g...  "
      ]
     },
     "execution_count": 7,
     "metadata": {},
     "output_type": "execute_result"
    }
   ],
   "source": [
    "data.head(5)"
   ]
  },
  {
   "cell_type": "code",
   "execution_count": 18,
   "id": "01a44718-603c-4240-aa43-e2095be38e65",
   "metadata": {
    "tags": []
   },
   "outputs": [
    {
     "name": "stderr",
     "output_type": "stream",
     "text": [
      "C:\\Users\\HP\\AppData\\Local\\Temp\\ipykernel_3756\\228477689.py:1: SettingWithCopyWarning: \n",
      "A value is trying to be set on a copy of a slice from a DataFrame.\n",
      "Try using .loc[row_indexer,col_indexer] = value instead\n",
      "\n",
      "See the caveats in the documentation: https://pandas.pydata.org/pandas-docs/stable/user_guide/indexing.html#returning-a-view-versus-a-copy\n",
      "  data['Tag'] = data[columns].apply(lambda row: ' '.join(row), axis=1)\n"
     ]
    },
    {
     "data": {
      "text/plain": [
       "'acer rất tốt 8gb ddr4 2 khe 1 khe 8gb 1 khe rời 512gb ssd nvme pcie có thể tháo ra lắp thanh khác tối đa 1tb intel core i5 alder lake 1235u 1.3ghz 15.6 full hd 1920 x 1080 card tích hợp intel uhd graphics iris xe graphics chỉ hoạt động với ram kênh đôi vỏ nhựa 3cell 40wh windows 11 home sl'"
      ]
     },
     "execution_count": 18,
     "metadata": {},
     "output_type": "execute_result"
    }
   ],
   "source": [
    "data['Tag'] = data[columns].apply(lambda row: ' '.join(row), axis=1)\n",
    "data.iloc[10]['Tag']"
   ]
  },
  {
   "cell_type": "code",
   "execution_count": 9,
   "id": "e89516a8-6ba7-438e-9e13-b6e67f87010b",
   "metadata": {
    "tags": []
   },
   "outputs": [
    {
     "data": {
      "text/html": [
       "<div>\n",
       "<style scoped>\n",
       "    .dataframe tbody tr th:only-of-type {\n",
       "        vertical-align: middle;\n",
       "    }\n",
       "\n",
       "    .dataframe tbody tr th {\n",
       "        vertical-align: top;\n",
       "    }\n",
       "\n",
       "    .dataframe thead th {\n",
       "        text-align: right;\n",
       "    }\n",
       "</style>\n",
       "<table border=\"1\" class=\"dataframe\">\n",
       "  <thead>\n",
       "    <tr style=\"text-align: right;\">\n",
       "      <th></th>\n",
       "      <th>Tên sp</th>\n",
       "      <th>Giá</th>\n",
       "      <th>Tag</th>\n",
       "    </tr>\n",
       "  </thead>\n",
       "  <tbody>\n",
       "    <tr>\n",
       "      <th>0</th>\n",
       "      <td>Laptop Acer Aspire 3 A314 42P R3B3 R7 5700U/16...</td>\n",
       "      <td>12490000</td>\n",
       "      <td>acer máy để chế độ sleep khoảng 12 tiếng sẽ bị...</td>\n",
       "    </tr>\n",
       "    <tr>\n",
       "      <th>1</th>\n",
       "      <td>Laptop Acer Aspire 3 A314 42P R3B3 R7 5700U/16...</td>\n",
       "      <td>12490000</td>\n",
       "      <td>acer mua sản phẩm vào tháng 09 2024 đến tháng ...</td>\n",
       "    </tr>\n",
       "  </tbody>\n",
       "</table>\n",
       "</div>"
      ],
      "text/plain": [
       "                                              Tên sp       Giá  \\\n",
       "0  Laptop Acer Aspire 3 A314 42P R3B3 R7 5700U/16...  12490000   \n",
       "1  Laptop Acer Aspire 3 A314 42P R3B3 R7 5700U/16...  12490000   \n",
       "\n",
       "                                                 Tag  \n",
       "0  acer máy để chế độ sleep khoảng 12 tiếng sẽ bị...  \n",
       "1  acer mua sản phẩm vào tháng 09 2024 đến tháng ...  "
      ]
     },
     "execution_count": 9,
     "metadata": {},
     "output_type": "execute_result"
    }
   ],
   "source": [
    "data_new = data[['Tên sp', 'Giá', 'Tag']]\n",
    "data_new.head(2)"
   ]
  },
  {
   "cell_type": "code",
   "execution_count": 19,
   "id": "f49f91a3-8678-4474-9fdc-0444bb5063f7",
   "metadata": {
    "tags": []
   },
   "outputs": [],
   "source": [
    "with open('vietnamese-stopwords.txt', 'r', encoding = 'utf-8') as f:\n",
    "        vn_stopwords = [line.strip() for line in f if line.strip()]\n",
    "        vn_stopwords = [word.replace(' ', '_') for word in vn_stopwords]"
   ]
  },
  {
   "cell_type": "code",
   "execution_count": 20,
   "id": "00f3f5d9-57e4-4215-9df6-6fe4dda0076a",
   "metadata": {
    "tags": []
   },
   "outputs": [
    {
     "data": {
      "text/plain": [
       "array([[0.        , 0.        , 0.        , ..., 0.04483891, 0.        ,\n",
       "        0.        ],\n",
       "       [0.        , 0.        , 0.1284892 , ..., 0.        , 0.        ,\n",
       "        0.        ],\n",
       "       [0.        , 0.        , 0.        , ..., 0.        , 0.        ,\n",
       "        0.        ],\n",
       "       ...,\n",
       "       [0.        , 0.        , 0.        , ..., 0.15292327, 0.        ,\n",
       "        0.        ],\n",
       "       [0.        , 0.        , 0.        , ..., 0.        , 0.        ,\n",
       "        0.        ],\n",
       "       [0.        , 0.        , 0.        , ..., 0.        , 0.        ,\n",
       "        0.        ]])"
      ]
     },
     "execution_count": 20,
     "metadata": {},
     "output_type": "execute_result"
    }
   ],
   "source": [
    "tfidf = TfidfVectorizer(stop_words = vn_stopwords)\n",
    "vector = tfidf.fit_transform(data_new['Tag']).toarray()\n",
    "vector"
   ]
  },
  {
   "cell_type": "code",
   "execution_count": 12,
   "id": "1c0c5f28-7029-4d8f-abef-67b8d105fed1",
   "metadata": {
    "tags": []
   },
   "outputs": [
    {
     "data": {
      "text/plain": [
       "(793, 1774)"
      ]
     },
     "execution_count": 12,
     "metadata": {},
     "output_type": "execute_result"
    }
   ],
   "source": [
    "vector.shape"
   ]
  },
  {
   "cell_type": "code",
   "execution_count": 13,
   "id": "b6835d2d-cc23-4f86-b435-3ec8679730e3",
   "metadata": {
    "tags": []
   },
   "outputs": [
    {
     "data": {
      "text/plain": [
       "array([[1.        , 0.14747765, 0.04711437, ..., 0.03878998, 0.03477464,\n",
       "        0.07024941],\n",
       "       [0.14747765, 1.        , 0.04964731, ..., 0.09442679, 0.03598281,\n",
       "        0.12043372],\n",
       "       [0.04711437, 0.04964731, 1.        , ..., 0.01945393, 0.03488233,\n",
       "        0.02481191],\n",
       "       ...,\n",
       "       [0.03878998, 0.09442679, 0.01945393, ..., 1.        , 0.29729169,\n",
       "        0.54143819],\n",
       "       [0.03477464, 0.03598281, 0.03488233, ..., 0.29729169, 1.        ,\n",
       "        0.37917147],\n",
       "       [0.07024941, 0.12043372, 0.02481191, ..., 0.54143819, 0.37917147,\n",
       "        1.        ]])"
      ]
     },
     "execution_count": 13,
     "metadata": {},
     "output_type": "execute_result"
    }
   ],
   "source": [
    "from sklearn.metrics.pairwise import cosine_similarity\n",
    "similarity_matrix = cosine_similarity(vector)\n",
    "similarity_matrix"
   ]
  },
  {
   "cell_type": "code",
   "execution_count": 14,
   "id": "eecc4bf7-f6cf-48c2-9098-4493420f2d2e",
   "metadata": {
    "tags": []
   },
   "outputs": [
    {
     "data": {
      "text/plain": [
       "(793, 793)"
      ]
     },
     "execution_count": 14,
     "metadata": {},
     "output_type": "execute_result"
    }
   ],
   "source": [
    "similarity_matrix.shape"
   ]
  },
  {
   "cell_type": "code",
   "execution_count": 15,
   "id": "586db447-9193-47b3-b9ca-5461edbcd1aa",
   "metadata": {
    "tags": []
   },
   "outputs": [],
   "source": [
    "def query_tag(des):\n",
    "    t = []\n",
    "    for col in columns:\n",
    "        feature = des.get(col, '')\n",
    "        feature = clean(feature)\n",
    "        t.append(feature)\n",
    "    return ' '.join(t)"
   ]
  },
  {
   "cell_type": "code",
   "execution_count": 16,
   "id": "efb3a615-0651-42fd-8bc0-0db67cfd5890",
   "metadata": {
    "tags": []
   },
   "outputs": [],
   "source": [
    "def recommend(des):\n",
    "    query = query_tag(des)\n",
    "    query_vec = tfidf.transform([query]).toarray()\n",
    "    similarity_scores = cosine_similarity(query_vec, vector)[0]\n",
    "    product = similarity_scores.argsort()[::-1][1:10]\n",
    "    print('Các sản phẩm tương tự:')\n",
    "    for i in product:\n",
    "        name = data_new.iloc[i]['Tên sp'].title()\n",
    "        price = data_new.iloc[i]['Giá']\n",
    "        print(f'{name} - Giá: {price}')"
   ]
  },
  {
   "cell_type": "code",
   "execution_count": 17,
   "id": "c6ef84e7-b331-45cd-a8bd-445d912cd858",
   "metadata": {
    "tags": []
   },
   "outputs": [
    {
     "name": "stdout",
     "output_type": "stream",
     "text": [
      "Các sản phẩm tương tự:\n",
      "Laptop Hp 15S Fq5162Tu I5 1235U/8Gb/512Gb/Win11 (7C134Pa) - Giá: 12990000\n",
      "Laptop Hp 240 G9 I5 1235U/8Gb/512Gb/Win11 (6L1Y2Pa) - Giá: 12990000\n",
      "Laptop Hp Pavilion 15 Eg2081Tu I5 1240P/16Gb/512Gb/Win11 (7C0Q4Pa) - Giá: 16890000\n",
      "Laptop Hp Pavilion 15 Eg2081Tu I5 1240P/16Gb/512Gb/Win11 (7C0Q4Pa) - Giá: 16890000\n",
      "Laptop Hp Pavilion 15 Eg2081Tu I5 1240P/16Gb/512Gb/Win11 (7C0Q4Pa) - Giá: 16890000\n",
      "Laptop Hp Pavilion 15 Eg3091Tu I7 1355U/16Gb/512Gb/Win11 (8C5L2Pa) - Giá: 20990000\n",
      "Laptop Hp Pavilion 15 Eg2081Tu I5 1240P/16Gb/512Gb/Win11 (7C0Q4Pa) - Giá: 16890000\n",
      "Laptop Hp Gaming Victus 15 Fa1139Tx I5 12450H/16Gb/512Gb/4Gb Rtx2050/144Hz/Win11 (8Y6W3Pa) - Giá: 17690000\n",
      "Laptop Hp Pavilion 15 Eg2081Tu I5 1240P/16Gb/512Gb/Win11 (7C0Q4Pa) - Giá: 16890000\n"
     ]
    }
   ],
   "source": [
    "recommend({'Thương hiệu': 'hp',\n",
    "          'Giá': '20000000',\n",
    "          'RAM': '16gb'})"
   ]
  },
  {
   "cell_type": "code",
   "execution_count": null,
   "id": "e9fd3bcf-be75-42c0-b590-03b2a152e90e",
   "metadata": {},
   "outputs": [],
   "source": []
  }
 ],
 "metadata": {
  "kernelspec": {
   "display_name": "Python 3 (ipykernel)",
   "language": "python",
   "name": "python3"
  },
  "language_info": {
   "codemirror_mode": {
    "name": "ipython",
    "version": 3
   },
   "file_extension": ".py",
   "mimetype": "text/x-python",
   "name": "python",
   "nbconvert_exporter": "python",
   "pygments_lexer": "ipython3",
   "version": "3.11.5"
  }
 },
 "nbformat": 4,
 "nbformat_minor": 5
}
